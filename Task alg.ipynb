{
 "cells": [
  {
   "cell_type": "code",
   "execution_count": 9,
   "id": "81c03197",
   "metadata": {},
   "outputs": [
    {
     "name": "stdout",
     "output_type": "stream",
     "text": [
      "Enter the number of elements of the array: 4\n",
      "Enter array numbers : 5\n",
      "Enter array numbers : 4\n",
      "Enter array numbers : 7\n",
      "Enter array numbers : 8\n",
      "[4, 5, 7, 8]\n"
     ]
    }
   ],
   "source": [
    "def insertionsort(arr):\n",
    "    for item in range(1, len(arr)):\n",
    "        Num = arr[item]\n",
    "        key = 0\n",
    "        for y in range(item-1, -2, -1):\n",
    "            key = y\n",
    "            if arr[y] > Num:\n",
    "                arr [y+1] = arr [y]\n",
    "            else:\n",
    "                break\n",
    "        arr   [key+1] = Num\n",
    "        \n",
    "#ENTER UNSORTED LIST\n",
    "arr=[]\n",
    "length=int(input(\"Enter the number of elements of the array: \"))\n",
    "for x in range (length):\n",
    "    num= int( input (\"Enter array numbers : \"))\n",
    "    arr.append(num)\n",
    "\n",
    "insertionsort(arr)\n",
    "print(arr)"
   ]
  },
  {
   "cell_type": "code",
   "execution_count": 7,
   "id": "ef1bf5b6",
   "metadata": {},
   "outputs": [
    {
     "name": "stdout",
     "output_type": "stream",
     "text": [
      "Enter the number of elements of the array: 5\n",
      "Enter array numbers : 4\n",
      "Enter array numbers : 7\n",
      "Enter array numbers : 1\n",
      "Enter array numbers : 2\n",
      "Enter array numbers : 6\n"
     ]
    },
    {
     "data": {
      "text/plain": [
       "[1, 2, 4, 6, 7]"
      ]
     },
     "execution_count": 7,
     "metadata": {},
     "output_type": "execute_result"
    }
   ],
   "source": [
    "def mergesort(arr):\n",
    "    r = len(arr)\n",
    "    if r <= 1:\n",
    "        return arr \n",
    "    middle = r // 2\n",
    "    left, right = 0, 0\n",
    "    # left list = p\n",
    "    # right list =q\n",
    "    \n",
    "    p = mergesort(arr[:middle])\n",
    "    \n",
    "    q = mergesort(arr[middle:])\n",
    "    result = []\n",
    "    \n",
    "    while left < len(p) and right < len(q):\n",
    "        if p[left] <= q[right]:\n",
    "            result.append(p[left])\n",
    "            left += 1\n",
    "        else:\n",
    "            result.append(q[right])\n",
    "            right += 1\n",
    "\n",
    "    result += q[right:]\n",
    "    result += p[left:]\n",
    "    return result\n",
    "\n",
    "\n",
    "\n",
    "arr=[]\n",
    "length=int(input(\"Enter the number of elements of the array: \"))\n",
    "for i in range (length):\n",
    "    num= int( input (\"Enter array numbers : \"))\n",
    "    arr.append(num)\n",
    "    \n",
    "mergesort(arr)"
   ]
  },
  {
   "cell_type": "code",
   "execution_count": 8,
   "id": "36c48058",
   "metadata": {},
   "outputs": [
    {
     "name": "stdout",
     "output_type": "stream",
     "text": [
      "[('s2', 's1'), ('s12', 's1'), ('s10', 's1'), ('s12', 's5')]\n"
     ]
    }
   ],
   "source": [
    "def kruskal(graph):\n",
    "    assert type(graph)==dict\n",
    "\n",
    "    nodes = graph.keys()   \n",
    "    visited = set()\n",
    "    path = []\n",
    "    next = None\n",
    "\n",
    "    while len(visited) < len(nodes):\n",
    "        distance = float('inf') \n",
    "        for s in nodes:\n",
    "            for d in nodes:\n",
    "                if s in visited and d in visited or s == d:\n",
    "                    continue\n",
    "                if graph[s][d] < distance:\n",
    "                    distance = graph[s][d]\n",
    "                    pre = s\n",
    "                    next = d\n",
    "\n",
    "        path.append((pre, next))\n",
    "        visited.add(pre)\n",
    "        visited.add(next)\n",
    "\n",
    "    return path\n",
    "\n",
    "\n",
    "if __name__ == '__main__':\n",
    "    graph_dict = {  \"s1\":{\"s1\": 0, \"s2\": 6, \"s10\": 3, \"s12\": 4, \"s5\":3},\n",
    "                    \"s2\":{\"s1\": 1, \"s2\": 0, \"s10\": 4, \"s12\": 3, \"s5\":4},\n",
    "                    \"s10\":{\"s1\": 2, \"s2\": 6, \"s10\": 0, \"s12\":3, \"s5\":4},\n",
    "                    \"s12\":{\"s1\": 1, \"s2\": 5, \"s10\": 2, \"s12\":0,\"s5\":2},\n",
    "                    \"s5\":{\"s1\": 3, \"s2\": 5, \"s10\": 7, \"s12\":4,\"s5\":0},\n",
    "    }\n",
    "\n",
    "    path = kruskal(graph_dict)\n",
    "    print (path)"
   ]
  },
  {
   "cell_type": "code",
   "execution_count": null,
   "id": "78566ebe",
   "metadata": {},
   "outputs": [],
   "source": []
  }
 ],
 "metadata": {
  "kernelspec": {
   "display_name": "Python 3 (ipykernel)",
   "language": "python",
   "name": "python3"
  },
  "language_info": {
   "codemirror_mode": {
    "name": "ipython",
    "version": 3
   },
   "file_extension": ".py",
   "mimetype": "text/x-python",
   "name": "python",
   "nbconvert_exporter": "python",
   "pygments_lexer": "ipython3",
   "version": "3.9.13"
  }
 },
 "nbformat": 4,
 "nbformat_minor": 5
}
